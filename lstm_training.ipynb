{
 "cells": [
  {
   "cell_type": "code",
   "execution_count": null,
   "id": "dda55d79",
   "metadata": {},
   "outputs": [
    {
     "name": "stdout",
     "output_type": "stream",
     "text": [
      "Using device: cuda\n",
      "GPU Memory: 0.04 GB / 8.59 GB\n"
     ]
    }
   ],
   "source": [
    "import torch\n",
    "import torch.nn as nn\n",
    "from torch.utils.data import Dataset, DataLoader, Subset\n",
    "\n",
    "\n",
    "import os\n",
    "import glob\n",
    "import re\n",
    "import numpy as np\n",
    "import pandas as pd\n",
    "from pandas.tseries.offsets import MonthEnd\n",
    "import weatherReturn\n",
    "import gc  # Added for explicit garbage collection\n",
    "from torch.cuda.amp import autocast, GradScaler\n",
    "from sklearn.preprocessing import StandardScaler\n",
    "from sklearn.preprocessing import OneHotEncoder\n",
    "from sklearn.model_selection import KFold, train_test_split\n",
    "from sklearn.metrics import mean_squared_error, r2_score\n",
    "\n",
    "import pynvml\n",
    "import matplotlib.pyplot as plt\n",
    "from tqdm.auto import tqdm\n",
    "from torch.utils.data import TensorDataset\n",
    "\n",
    "# IMPROVED GPU SETUP\n",
    "device = torch.device(\"cuda\" if torch.cuda.is_available() else \"cpu\")\n",
    "pynvml.nvmlInit()\n",
    "handle = pynvml.nvmlDeviceGetHandleByIndex(0)  # first GPU\n",
    "torch.manual_seed(42)\n",
    "\n",
    "# 1) Define a sequence dataset to create sliding windows\n",
    "class SequenceDataset(Dataset):\n",
    "    def __init__(self, X, y, seq_len: int):\n",
    "        # X: (N, feat_dim), y: (N,)\n",
    "        self.X = X\n",
    "        self.y = y\n",
    "        self.seq_len = seq_len\n",
    "\n",
    "    def __len__(self):\n",
    "        return self.X.shape[0] - self.seq_len\n",
    "\n",
    "    def __getitem__(self, idx):\n",
    "        seq_x = self.X[idx : idx + self.seq_len]       # shape: (seq_len, feat_dim)\n",
    "        target = self.y[idx + self.seq_len]            # scalar\n",
    "        return seq_x, target\n",
    "\n",
    "# 2) LSTM-based regression model\n",
    "class LSTMRegressor(nn.Module):\n",
    "    def __init__(self, input_dim, hidden_dim=256, num_layers=2, dropout=0.3):\n",
    "        super().__init__()\n",
    "        self.lstm = nn.LSTM(\n",
    "            input_size=input_dim,\n",
    "            hidden_size=hidden_dim,\n",
    "            num_layers=num_layers,\n",
    "            batch_first=True,\n",
    "            dropout=dropout if num_layers > 1 else 0.0,\n",
    "        )\n",
    "        self.fc = nn.Sequential(\n",
    "            nn.Linear(hidden_dim, hidden_dim//2),\n",
    "            nn.ReLU(),\n",
    "            nn.Dropout(dropout),\n",
    "            nn.Linear(hidden_dim//2, 1)\n",
    "        )\n",
    "\n",
    "    def forward(self, x):\n",
    "        # x: (batch, seq_len, input_dim)\n",
    "        out, _ = self.lstm(x)      # out: (batch, seq_len, hidden_dim)\n",
    "        last = out[:, -1, :]       # take last time step\n",
    "        return self.fc(last)       # (batch, 1)\n",
    "\n",
    "# 3) Example: Preparing data & dataloaders\n",
    "SEQ_LEN = 60  # e.g., using past 7 days\n",
    "\n",
    "\n",
    "# Track memory usage\n",
    "def print_gpu_memory():\n",
    "    if torch.cuda.is_available():\n",
    "        print(f\"GPU Memory: {torch.cuda.memory_allocated() / 1e9:.2f} GB / {torch.cuda.get_device_properties(0).total_memory / 1e9:.2f} GB\")\n",
    "\n",
    "print(f\"Using device: {device}\")\n",
    "print_gpu_memory()\n",
    "\n",
    "df_features = pd.read_feather('data/output/df_features_seoul.feather')\n",
    "\n",
    "# Columns to one-hot encode\n",
    "cat_cols = ['weekday', 'is_holiday', 'is_offday']\n",
    "\n",
    "# Fit OneHotEncoder (drop first to avoid collinearity)\n",
    "ohe = OneHotEncoder(drop='first', sparse_output=False)\n",
    "\n",
    "# Transform the categorical columns\n",
    "ohe_arr = ohe.fit_transform(df_features[cat_cols])\n",
    "\n",
    "# Retrieve the new column names\n",
    "ohe_cols = ohe.get_feature_names_out(cat_cols)\n",
    "\n",
    "# Build a DataFrame of the encoded columns\n",
    "df_ohe = pd.DataFrame(ohe_arr, columns=ohe_cols, index=df_features.index)\n",
    "\n",
    "# Concatenate back with the rest of df_features (dropping original cat_cols)\n",
    "df_ml = pd.concat([\n",
    "    df_features.drop(columns=cat_cols),\n",
    "    df_ohe\n",
    "], axis=1)\n",
    "\n",
    "# BUILD X, y (LOG TARGET)\n",
    "numeric_feats = [\n",
    "    'vehicle_count',\n",
    "    'T', 'RH', 'P', 'W', 'S', 'offday_run', 't',\n",
    "    'weather_score','coupon_count',\n",
    "    'sin_doy', 'cos_doy',\n",
    "    'rain_flag', 'windy_flag', 'rain_weekend', 'hot_weekday',\n",
    "    'sin_month', 'cos_month', 'days_to_hol',\n",
    "    'rev_lag1', 'rev_lag7', 'rev_ma7', 'rev_std7',\n",
    "    # # 인구 통계 변수\n",
    "    'femlNmprCnt','maleNmprCnt', 'pct_child', 'pct_teen', 'pct_adult', 'pct_senior',\n",
    "    #'totNmprCnt','femlNmprCnt','maleNmprCnt',  \n",
    "    # 조정 지가\n",
    "    'adj_land_price'\n",
    "]\n",
    "cat_feats = [c for c in df_ml.columns if\n",
    "             c.startswith(('wd_','hol_','off_','q_','h_'))]\n",
    "features = numeric_feats + cat_feats\n",
    "\n",
    "X_raw = df_ml[features].values.astype(np.float32)\n",
    "y_raw = np.log(df_ml['revenue_per_vehicle'].values.astype(np.float32)).reshape(-1,1)\n",
    "\n",
    "\n",
    "# 3) Prepare data (replace X_raw, y_raw with your scaled numpy arrays)\n",
    "# Example placeholders:\n",
    "# X_raw: np.ndarray of shape (N, D)\n",
    "# y_raw: np.ndarray of shape (N,)\n",
    "# ---------------------------------------------------------------\n",
    "scaler_X = StandardScaler(); X_scaled = scaler_X.fit_transform(X_raw)\n",
    "scaler_y = StandardScaler(); y_scaled = scaler_y.fit_transform(y_raw.reshape(-1,1)).flatten()\n",
    "# ---------------------------------------------------------------\n",
    "\n",
    "dataset = SequenceDataset(torch.from_numpy(X_scaled).float(),\n",
    "                          torch.from_numpy(y_scaled).float(),\n",
    "                          seq_len=SEQ_LEN)\n",
    "\n"
   ]
  },
  {
   "cell_type": "code",
   "execution_count": 12,
   "id": "55dd6aca",
   "metadata": {},
   "outputs": [
    {
     "name": "stdout",
     "output_type": "stream",
     "text": [
      "Avg batch inference times: {32: 0.004960346221923828, 64: 0.008002662658691406, 128: 0.00897665023803711, 256: 0.008404254913330078, 512: 0.005159187316894531, 1024: 0.01410679817199707}\n",
      "Avg GPU utilizations: {32: 27.0, 64: 27.0, 128: 27.0, 256: 77.4, 512: 90.0, 1024: 90.0}\n",
      "Recommended batch size (highest GPU util): 512\n"
     ]
    }
   ],
   "source": [
    "import time\n",
    "# 4) Sweep batch sizes measuring time and GPU utilization\n",
    "candidate_bs = [32, 64, 128, 256, 512, 1024]\n",
    "batch_times, batch_utils = {}, {}\n",
    "model = LSTMRegressor(input_dim=X_scaled.shape[1]).to(device)\n",
    "for bs in candidate_bs:\n",
    "    loader = DataLoader(dataset, batch_size=bs, shuffle=False,\n",
    "                        pin_memory=True, num_workers=0)\n",
    "    # Warm-up\n",
    "    try:\n",
    "        seq_x, _ = next(iter(loader))\n",
    "        model(seq_x.to(device))\n",
    "    except Exception as e:\n",
    "        print(f\"Skipping batch size {bs} due to: {e}\")\n",
    "        continue\n",
    "    # Measure over 5 batches\n",
    "    utils = []\n",
    "    start = time.time()\n",
    "    for i, (seq_x, _) in enumerate(loader):\n",
    "        if i >= 5: break\n",
    "        seq_x = seq_x.to(device)\n",
    "        with torch.no_grad():\n",
    "            _ = model(seq_x)\n",
    "        util = pynvml.nvmlDeviceGetUtilizationRates(handle).gpu\n",
    "        utils.append(util)\n",
    "    elapsed = time.time() - start\n",
    "    batch_times[bs] = elapsed / len(utils)\n",
    "    batch_utils[bs] = sum(utils) / len(utils)\n",
    "\n",
    "print(f\"Avg batch inference times: {batch_times}\")\n",
    "print(f\"Avg GPU utilizations: {batch_utils}\")\n",
    "best_bs = max(batch_utils, key=batch_utils.get)\n",
    "print(f\"Recommended batch size (highest GPU util): {best_bs}\")"
   ]
  },
  {
   "cell_type": "code",
   "execution_count": null,
   "id": "d5e4b764",
   "metadata": {},
   "outputs": [
    {
     "name": "stderr",
     "output_type": "stream",
     "text": [
      "C:\\Users\\User\\AppData\\Local\\Temp\\ipykernel_1080\\2110769518.py:35: FutureWarning: `torch.cuda.amp.GradScaler(args...)` is deprecated. Please use `torch.amp.GradScaler('cuda', args...)` instead.\n",
      "  scaler = GradScaler()\n",
      "Fold 1:   0%|          | 0/50 [00:00<?, ?it/s]"
     ]
    }
   ],
   "source": [
    "# 4) Hyperparameters & DataLoader settings\n",
    "BATCH_SIZE = 512               # from sweep\n",
    "NUM_WORKERS = 16               # parallel data loading\n",
    "PIN_MEMORY = True              # accelerate host->device\n",
    "PERSISTENT_WORKERS = True      # reuse workers\n",
    "PREFETCH_FACTOR = 6            # batches per worker\n",
    "\n",
    "# 5) Utility function for timed+util sweep\n",
    "# [omitted: reuse earlier sweep code]\n",
    "\n",
    "# 6) K-Fold training loop\n",
    "kf = KFold(n_splits=5, shuffle=True, random_state=42)\n",
    "rmse_list, r2_list = [], []\n",
    "for fold, (train_idx, test_idx) in enumerate(kf.split(dataset), 1):\n",
    "    train_idx, val_idx = train_test_split(train_idx, test_size=0.1, random_state=42)\n",
    "\n",
    "    def make_loader(idxs, shuffle: bool):\n",
    "        return DataLoader(\n",
    "            Subset(dataset, idxs),\n",
    "            batch_size=BATCH_SIZE,\n",
    "            shuffle=shuffle,\n",
    "            num_workers=NUM_WORKERS,\n",
    "            pin_memory=PIN_MEMORY,\n",
    "            persistent_workers=PERSISTENT_WORKERS,\n",
    "            prefetch_factor=PREFETCH_FACTOR\n",
    "        )\n",
    "\n",
    "    train_loader = make_loader(train_idx, True)\n",
    "    val_loader   = make_loader(val_idx, False)\n",
    "    test_loader  = make_loader(test_idx, False)\n",
    "\n",
    "    model = LSTMRegressor(input_dim=X_scaled.shape[1]).to(device)\n",
    "    optimizer = torch.optim.Adam(model.parameters(), lr=1e-3, weight_decay=1e-4)\n",
    "    loss_fn = nn.MSELoss()\n",
    "    scaler = GradScaler()\n",
    "\n",
    "    best_val_loss = float('inf'); best_state = None\n",
    "    for epoch in tqdm(range(1, 51), desc=f\"Fold {fold}\" ):\n",
    "        # Train\n",
    "        model.train(); train_losses = []\n",
    "        for seq_x, y in train_loader:\n",
    "            seq_x, y = seq_x.to(device), y.unsqueeze(1).to(device)\n",
    "            optimizer.zero_grad()\n",
    "            with autocast(): loss = loss_fn(model(seq_x), y)\n",
    "            scaler.scale(loss).backward()\n",
    "            scaler.step(optimizer); scaler.update()\n",
    "            train_losses.append(loss.item())\n",
    "        # Validate\n",
    "        model.eval(); val_losses = []\n",
    "        with torch.no_grad():\n",
    "            for seq_x, y in val_loader:\n",
    "                seq_x, y = seq_x.to(device), y.unsqueeze(1).to(device)\n",
    "                with autocast(): val_losses.append(float(loss_fn(model(seq_x), y)))\n",
    "        val_loss = np.mean(val_losses)\n",
    "        if val_loss < best_val_loss:\n",
    "            best_val_loss, best_state = val_loss, model.state_dict()\n",
    "        tqdm.write(f\"Fold {fold} Ep {epoch}: train={np.mean(train_losses):.4f}, val={val_loss:.4f}\")\n",
    "\n",
    "    # Load best and test\n",
    "    model.load_state_dict(best_state)\n",
    "    preds, trues = [], []\n",
    "    with torch.no_grad():\n",
    "        for seq_x, y in test_loader:\n",
    "            seq_x = seq_x.to(device)\n",
    "            with autocast(): preds.append(model(seq_x).cpu().numpy());\n",
    "            trues.append(y.unsqueeze(1).numpy())\n",
    "    preds = np.vstack(preds).flatten().astype(np.float32)\n",
    "    trues = np.vstack(trues).flatten().astype(np.float32)\n",
    "\n",
    "    # Inverse & metrics\n",
    "    y_pred = scaler_y.inverse_transform(preds[:,None]).ravel()\n",
    "    y_true = scaler_y.inverse_transform(trues[:,None]).ravel()\n",
    "    y_pred, y_true = np.exp(y_pred), np.exp(y_true)\n",
    "    rmse = np.sqrt(mean_squared_error(y_true, y_pred))\n",
    "    r2 = r2_score(y_true, y_pred)\n",
    "    tqdm.write(f\"Fold {fold} — RMSE: {rmse:.2f}, R2: {r2:.3f}\")\n",
    "    rmse_list.append(rmse); r2_list.append(r2)\n",
    "\n",
    "print(f\"Avg RMSE: {np.mean(rmse_list):.2f}, Avg R2: {np.mean(r2_list):.3f}\")"
   ]
  },
  {
   "cell_type": "code",
   "execution_count": 13,
   "id": "173e4ab1",
   "metadata": {},
   "outputs": [
    {
     "name": "stderr",
     "output_type": "stream",
     "text": [
      "C:\\Users\\User\\AppData\\Local\\Temp\\ipykernel_23956\\694462912.py:89: FutureWarning: `torch.cuda.amp.GradScaler(args...)` is deprecated. Please use `torch.amp.GradScaler('cuda', args...)` instead.\n",
      "  scaler = GradScaler()\n",
      "Fold 1:   0%|          | 0/1000 [00:00<?, ?it/s]"
     ]
    },
    {
     "name": "stderr",
     "output_type": "stream",
     "text": [
      "C:\\Users\\User\\AppData\\Local\\Temp\\ipykernel_23956\\694462912.py:99: FutureWarning: `torch.cuda.amp.autocast(args...)` is deprecated. Please use `torch.amp.autocast('cuda', args...)` instead.\n",
      "  with autocast():\n",
      "C:\\Users\\User\\AppData\\Local\\Temp\\ipykernel_23956\\694462912.py:115: FutureWarning: `torch.cuda.amp.autocast(args...)` is deprecated. Please use `torch.amp.autocast('cuda', args...)` instead.\n",
      "  with autocast():\n",
      "Fold 1:   0%|          | 1/1000 [00:05<1:25:55,  5.16s/it]"
     ]
    },
    {
     "name": "stdout",
     "output_type": "stream",
     "text": [
      "Fold 1 Ep 1: train=0.9810, val=0.9753, lr=5.05e-05\n"
     ]
    },
    {
     "name": "stderr",
     "output_type": "stream",
     "text": [
      "Fold 1:   0%|          | 2/1000 [00:10<1:23:36,  5.03s/it]"
     ]
    },
    {
     "name": "stdout",
     "output_type": "stream",
     "text": [
      "Fold 1 Ep 2: train=0.9053, val=0.8950, lr=8.15e-05\n"
     ]
    },
    {
     "name": "stderr",
     "output_type": "stream",
     "text": [
      "Fold 1:   0%|          | 3/1000 [00:15<1:22:53,  4.99s/it]"
     ]
    },
    {
     "name": "stdout",
     "output_type": "stream",
     "text": [
      "Fold 1 Ep 3: train=0.8745, val=0.8913, lr=1.32e-04\n"
     ]
    },
    {
     "name": "stderr",
     "output_type": "stream",
     "text": [
      "Fold 1:   0%|          | 4/1000 [00:20<1:23:19,  5.02s/it]"
     ]
    },
    {
     "name": "stdout",
     "output_type": "stream",
     "text": [
      "Fold 1 Ep 4: train=0.8731, val=0.8899, lr=1.99e-04\n"
     ]
    },
    {
     "name": "stderr",
     "output_type": "stream",
     "text": [
      "Fold 1:   0%|          | 5/1000 [00:25<1:23:33,  5.04s/it]"
     ]
    },
    {
     "name": "stdout",
     "output_type": "stream",
     "text": [
      "Fold 1 Ep 5: train=0.8717, val=0.8897, lr=2.80e-04\n"
     ]
    },
    {
     "name": "stderr",
     "output_type": "stream",
     "text": [
      "Fold 1:   1%|          | 6/1000 [00:30<1:23:30,  5.04s/it]"
     ]
    },
    {
     "name": "stdout",
     "output_type": "stream",
     "text": [
      "Fold 1 Ep 6: train=0.8711, val=0.8856, lr=3.72e-04\n"
     ]
    },
    {
     "name": "stderr",
     "output_type": "stream",
     "text": [
      "Fold 1:   1%|          | 7/1000 [00:35<1:23:04,  5.02s/it]"
     ]
    },
    {
     "name": "stdout",
     "output_type": "stream",
     "text": [
      "Fold 1 Ep 7: train=0.8690, val=0.8877, lr=4.70e-04\n"
     ]
    },
    {
     "name": "stderr",
     "output_type": "stream",
     "text": [
      "Fold 1:   1%|          | 8/1000 [00:40<1:24:04,  5.08s/it]"
     ]
    },
    {
     "name": "stdout",
     "output_type": "stream",
     "text": [
      "Fold 1 Ep 8: train=0.8672, val=0.8835, lr=5.71e-04\n"
     ]
    },
    {
     "name": "stderr",
     "output_type": "stream",
     "text": [
      "Fold 1:   1%|          | 9/1000 [00:45<1:24:26,  5.11s/it]"
     ]
    },
    {
     "name": "stdout",
     "output_type": "stream",
     "text": [
      "Fold 1 Ep 9: train=0.8665, val=0.8798, lr=6.69e-04\n"
     ]
    },
    {
     "name": "stderr",
     "output_type": "stream",
     "text": [
      "Fold 1:   1%|          | 10/1000 [00:50<1:24:51,  5.14s/it]"
     ]
    },
    {
     "name": "stdout",
     "output_type": "stream",
     "text": [
      "Fold 1 Ep 10: train=0.8637, val=0.8808, lr=7.60e-04\n"
     ]
    },
    {
     "name": "stderr",
     "output_type": "stream",
     "text": [
      "Fold 1:   1%|          | 11/1000 [00:56<1:25:11,  5.17s/it]"
     ]
    },
    {
     "name": "stdout",
     "output_type": "stream",
     "text": [
      "Fold 1 Ep 11: train=0.8625, val=0.8784, lr=8.42e-04\n"
     ]
    },
    {
     "name": "stderr",
     "output_type": "stream",
     "text": [
      "Fold 1:   1%|          | 12/1000 [01:01<1:25:16,  5.18s/it]"
     ]
    },
    {
     "name": "stdout",
     "output_type": "stream",
     "text": [
      "Fold 1 Ep 12: train=0.8605, val=0.8781, lr=9.09e-04\n"
     ]
    },
    {
     "name": "stderr",
     "output_type": "stream",
     "text": [
      "Fold 1:   1%|▏         | 13/1000 [01:06<1:25:16,  5.18s/it]"
     ]
    },
    {
     "name": "stdout",
     "output_type": "stream",
     "text": [
      "Fold 1 Ep 13: train=0.8582, val=0.8747, lr=9.59e-04\n"
     ]
    },
    {
     "name": "stderr",
     "output_type": "stream",
     "text": [
      "Fold 1:   1%|▏         | 14/1000 [01:11<1:25:11,  5.18s/it]"
     ]
    },
    {
     "name": "stdout",
     "output_type": "stream",
     "text": [
      "Fold 1 Ep 14: train=0.8541, val=0.8730, lr=9.90e-04\n"
     ]
    },
    {
     "name": "stderr",
     "output_type": "stream",
     "text": [
      "Fold 1:   2%|▏         | 15/1000 [01:16<1:25:22,  5.20s/it]"
     ]
    },
    {
     "name": "stdout",
     "output_type": "stream",
     "text": [
      "Fold 1 Ep 15: train=0.8508, val=0.8719, lr=1.00e-03\n"
     ]
    },
    {
     "name": "stderr",
     "output_type": "stream",
     "text": [
      "Fold 1:   2%|▏         | 16/1000 [01:22<1:25:20,  5.20s/it]"
     ]
    },
    {
     "name": "stdout",
     "output_type": "stream",
     "text": [
      "Fold 1 Ep 16: train=0.8489, val=0.8696, lr=9.98e-04\n"
     ]
    },
    {
     "name": "stderr",
     "output_type": "stream",
     "text": [
      "Fold 1:   2%|▏         | 17/1000 [01:27<1:25:18,  5.21s/it]"
     ]
    },
    {
     "name": "stdout",
     "output_type": "stream",
     "text": [
      "Fold 1 Ep 17: train=0.8465, val=0.8733, lr=9.92e-04\n"
     ]
    },
    {
     "name": "stderr",
     "output_type": "stream",
     "text": [
      "Fold 1:   2%|▏         | 18/1000 [01:32<1:25:17,  5.21s/it]"
     ]
    },
    {
     "name": "stdout",
     "output_type": "stream",
     "text": [
      "Fold 1 Ep 18: train=0.8447, val=0.8724, lr=9.82e-04\n"
     ]
    },
    {
     "name": "stderr",
     "output_type": "stream",
     "text": [
      "Fold 1:   2%|▏         | 19/1000 [01:37<1:25:23,  5.22s/it]"
     ]
    },
    {
     "name": "stdout",
     "output_type": "stream",
     "text": [
      "Fold 1 Ep 19: train=0.8420, val=0.8734, lr=9.68e-04\n"
     ]
    },
    {
     "name": "stderr",
     "output_type": "stream",
     "text": [
      "Fold 1:   2%|▏         | 20/1000 [01:42<1:25:17,  5.22s/it]"
     ]
    },
    {
     "name": "stdout",
     "output_type": "stream",
     "text": [
      "Fold 1 Ep 20: train=0.8400, val=0.8736, lr=9.50e-04\n"
     ]
    },
    {
     "name": "stderr",
     "output_type": "stream",
     "text": [
      "Fold 1:   2%|▏         | 21/1000 [01:48<1:25:19,  5.23s/it]"
     ]
    },
    {
     "name": "stdout",
     "output_type": "stream",
     "text": [
      "Fold 1 Ep 21: train=0.8374, val=0.8746, lr=9.29e-04\n"
     ]
    },
    {
     "name": "stderr",
     "output_type": "stream",
     "text": [
      "Fold 1:   2%|▏         | 22/1000 [01:53<1:25:19,  5.23s/it]"
     ]
    },
    {
     "name": "stdout",
     "output_type": "stream",
     "text": [
      "Fold 1 Ep 22: train=0.8343, val=0.8740, lr=9.04e-04\n"
     ]
    },
    {
     "name": "stderr",
     "output_type": "stream",
     "text": [
      "Fold 1:   2%|▏         | 23/1000 [01:58<1:25:14,  5.24s/it]"
     ]
    },
    {
     "name": "stdout",
     "output_type": "stream",
     "text": [
      "Fold 1 Ep 23: train=0.8324, val=0.8728, lr=8.76e-04\n"
     ]
    },
    {
     "name": "stderr",
     "output_type": "stream",
     "text": [
      "Fold 1:   2%|▏         | 24/1000 [02:03<1:25:06,  5.23s/it]"
     ]
    },
    {
     "name": "stdout",
     "output_type": "stream",
     "text": [
      "Fold 1 Ep 24: train=0.8285, val=0.8721, lr=8.45e-04\n"
     ]
    },
    {
     "name": "stderr",
     "output_type": "stream",
     "text": [
      "Fold 1:   2%|▎         | 25/1000 [02:09<1:25:02,  5.23s/it]"
     ]
    },
    {
     "name": "stdout",
     "output_type": "stream",
     "text": [
      "Fold 1 Ep 25: train=0.8256, val=0.8719, lr=8.12e-04\n"
     ]
    },
    {
     "name": "stderr",
     "output_type": "stream",
     "text": [
      "Fold 1:   3%|▎         | 26/1000 [02:14<1:24:59,  5.24s/it]"
     ]
    },
    {
     "name": "stdout",
     "output_type": "stream",
     "text": [
      "Fold 1 Ep 26: train=0.8232, val=0.8713, lr=7.75e-04\n"
     ]
    },
    {
     "name": "stderr",
     "output_type": "stream",
     "text": [
      "Fold 1:   3%|▎         | 27/1000 [02:19<1:24:52,  5.23s/it]"
     ]
    },
    {
     "name": "stdout",
     "output_type": "stream",
     "text": [
      "Fold 1 Ep 27: train=0.8190, val=0.8756, lr=7.37e-04\n"
     ]
    },
    {
     "name": "stderr",
     "output_type": "stream",
     "text": [
      "Fold 1:   3%|▎         | 28/1000 [02:24<1:24:37,  5.22s/it]"
     ]
    },
    {
     "name": "stdout",
     "output_type": "stream",
     "text": [
      "Fold 1 Ep 28: train=0.8189, val=0.8779, lr=6.96e-04\n"
     ]
    },
    {
     "name": "stderr",
     "output_type": "stream",
     "text": [
      "Fold 1:   3%|▎         | 29/1000 [02:30<1:24:37,  5.23s/it]"
     ]
    },
    {
     "name": "stdout",
     "output_type": "stream",
     "text": [
      "Fold 1 Ep 29: train=0.8130, val=0.8744, lr=6.54e-04\n"
     ]
    },
    {
     "name": "stderr",
     "output_type": "stream",
     "text": [
      "Fold 1:   3%|▎         | 30/1000 [02:35<1:24:37,  5.23s/it]"
     ]
    },
    {
     "name": "stdout",
     "output_type": "stream",
     "text": [
      "Fold 1 Ep 30: train=0.8096, val=0.8768, lr=6.11e-04\n"
     ]
    },
    {
     "name": "stderr",
     "output_type": "stream",
     "text": [
      "Fold 1:   3%|▎         | 31/1000 [02:40<1:24:37,  5.24s/it]"
     ]
    },
    {
     "name": "stdout",
     "output_type": "stream",
     "text": [
      "Fold 1 Ep 31: train=0.8086, val=0.8784, lr=5.67e-04\n"
     ]
    },
    {
     "name": "stderr",
     "output_type": "stream",
     "text": [
      "Fold 1:   3%|▎         | 32/1000 [02:45<1:24:38,  5.25s/it]"
     ]
    },
    {
     "name": "stdout",
     "output_type": "stream",
     "text": [
      "Fold 1 Ep 32: train=0.8044, val=0.8771, lr=5.22e-04\n"
     ]
    },
    {
     "name": "stderr",
     "output_type": "stream",
     "text": [
      "Fold 1:   3%|▎         | 33/1000 [02:51<1:24:34,  5.25s/it]"
     ]
    },
    {
     "name": "stdout",
     "output_type": "stream",
     "text": [
      "Fold 1 Ep 33: train=0.8019, val=0.8820, lr=4.77e-04\n"
     ]
    },
    {
     "name": "stderr",
     "output_type": "stream",
     "text": [
      "Fold 1:   3%|▎         | 34/1000 [02:56<1:24:30,  5.25s/it]"
     ]
    },
    {
     "name": "stdout",
     "output_type": "stream",
     "text": [
      "Fold 1 Ep 34: train=0.7993, val=0.8803, lr=4.33e-04\n"
     ]
    },
    {
     "name": "stderr",
     "output_type": "stream",
     "text": [
      "Fold 1:   4%|▎         | 35/1000 [03:01<1:24:25,  5.25s/it]"
     ]
    },
    {
     "name": "stdout",
     "output_type": "stream",
     "text": [
      "Fold 1 Ep 35: train=0.7955, val=0.8856, lr=3.88e-04\n"
     ]
    },
    {
     "name": "stderr",
     "output_type": "stream",
     "text": [
      "Fold 1:   4%|▎         | 36/1000 [03:06<1:24:15,  5.24s/it]"
     ]
    },
    {
     "name": "stdout",
     "output_type": "stream",
     "text": [
      "Fold 1 Ep 36: train=0.7921, val=0.8863, lr=3.45e-04\n"
     ]
    },
    {
     "name": "stderr",
     "output_type": "stream",
     "text": [
      "Fold 1:   4%|▎         | 37/1000 [03:12<1:24:11,  5.25s/it]"
     ]
    },
    {
     "name": "stdout",
     "output_type": "stream",
     "text": [
      "Fold 1 Ep 37: train=0.7888, val=0.8850, lr=3.03e-04\n"
     ]
    },
    {
     "name": "stderr",
     "output_type": "stream",
     "text": [
      "Fold 1:   4%|▍         | 38/1000 [03:17<1:24:08,  5.25s/it]"
     ]
    },
    {
     "name": "stdout",
     "output_type": "stream",
     "text": [
      "Fold 1 Ep 38: train=0.7855, val=0.8854, lr=2.63e-04\n"
     ]
    },
    {
     "name": "stderr",
     "output_type": "stream",
     "text": [
      "Fold 1:   4%|▍         | 39/1000 [03:22<1:24:03,  5.25s/it]"
     ]
    },
    {
     "name": "stdout",
     "output_type": "stream",
     "text": [
      "Fold 1 Ep 39: train=0.7833, val=0.8867, lr=2.24e-04\n"
     ]
    },
    {
     "name": "stderr",
     "output_type": "stream",
     "text": [
      "Fold 1:   4%|▍         | 40/1000 [03:27<1:23:57,  5.25s/it]"
     ]
    },
    {
     "name": "stdout",
     "output_type": "stream",
     "text": [
      "Fold 1 Ep 40: train=0.7808, val=0.8892, lr=1.88e-04\n"
     ]
    },
    {
     "name": "stderr",
     "output_type": "stream",
     "text": [
      "Fold 1:   4%|▍         | 41/1000 [03:33<1:23:54,  5.25s/it]"
     ]
    },
    {
     "name": "stdout",
     "output_type": "stream",
     "text": [
      "Fold 1 Ep 41: train=0.7768, val=0.8896, lr=1.54e-04\n"
     ]
    },
    {
     "name": "stderr",
     "output_type": "stream",
     "text": [
      "Fold 1:   4%|▍         | 42/1000 [03:38<1:23:50,  5.25s/it]"
     ]
    },
    {
     "name": "stdout",
     "output_type": "stream",
     "text": [
      "Fold 1 Ep 42: train=0.7775, val=0.8917, lr=1.23e-04\n"
     ]
    },
    {
     "name": "stderr",
     "output_type": "stream",
     "text": [
      "Fold 1:   4%|▍         | 43/1000 [03:43<1:23:43,  5.25s/it]"
     ]
    },
    {
     "name": "stdout",
     "output_type": "stream",
     "text": [
      "Fold 1 Ep 43: train=0.7762, val=0.8916, lr=9.53e-05\n"
     ]
    },
    {
     "name": "stderr",
     "output_type": "stream",
     "text": [
      "Fold 1:   4%|▍         | 44/1000 [03:48<1:23:33,  5.24s/it]"
     ]
    },
    {
     "name": "stdout",
     "output_type": "stream",
     "text": [
      "Fold 1 Ep 44: train=0.7744, val=0.8937, lr=7.06e-05\n"
     ]
    },
    {
     "name": "stderr",
     "output_type": "stream",
     "text": [
      "Fold 1:   4%|▍         | 45/1000 [03:54<1:23:29,  5.25s/it]"
     ]
    },
    {
     "name": "stdout",
     "output_type": "stream",
     "text": [
      "Fold 1 Ep 45: train=0.7740, val=0.8936, lr=4.94e-05\n"
     ]
    },
    {
     "name": "stderr",
     "output_type": "stream",
     "text": [
      "Fold 1:   5%|▍         | 46/1000 [03:59<1:23:25,  5.25s/it]"
     ]
    },
    {
     "name": "stdout",
     "output_type": "stream",
     "text": [
      "Fold 1 Ep 46: train=0.7716, val=0.8939, lr=3.18e-05\n"
     ]
    },
    {
     "name": "stderr",
     "output_type": "stream",
     "text": [
      "Fold 1:   5%|▍         | 47/1000 [04:04<1:23:22,  5.25s/it]"
     ]
    },
    {
     "name": "stdout",
     "output_type": "stream",
     "text": [
      "Fold 1 Ep 47: train=0.7711, val=0.8944, lr=1.79e-05\n"
     ]
    },
    {
     "name": "stderr",
     "output_type": "stream",
     "text": [
      "Fold 1:   5%|▍         | 48/1000 [04:09<1:23:17,  5.25s/it]"
     ]
    },
    {
     "name": "stdout",
     "output_type": "stream",
     "text": [
      "Fold 1 Ep 48: train=0.7697, val=0.8945, lr=7.99e-06\n"
     ]
    },
    {
     "name": "stderr",
     "output_type": "stream",
     "text": [
      "Fold 1:   5%|▍         | 49/1000 [04:15<1:23:12,  5.25s/it]"
     ]
    },
    {
     "name": "stdout",
     "output_type": "stream",
     "text": [
      "Fold 1 Ep 49: train=0.7717, val=0.8946, lr=1.99e-06\n"
     ]
    },
    {
     "name": "stderr",
     "output_type": "stream",
     "text": [
      "Fold 1:   5%|▌         | 50/1000 [04:20<1:22:26,  5.21s/it]"
     ]
    },
    {
     "name": "stdout",
     "output_type": "stream",
     "text": [
      "Fold 1 Ep 50: train=0.7690, val=0.8946, lr=4.09e-09\n"
     ]
    },
    {
     "name": "stderr",
     "output_type": "stream",
     "text": [
      "\n"
     ]
    },
    {
     "ename": "ValueError",
     "evalue": "Tried to step 7501 times. The specified number of total steps is 7500",
     "output_type": "error",
     "traceback": [
      "\u001b[31m---------------------------------------------------------------------------\u001b[39m",
      "\u001b[31mValueError\u001b[39m                                Traceback (most recent call last)",
      "\u001b[36mCell\u001b[39m\u001b[36m \u001b[39m\u001b[32mIn[13]\u001b[39m\u001b[32m, line 107\u001b[39m\n\u001b[32m    105\u001b[39m     scaler.step(optimizer)\n\u001b[32m    106\u001b[39m     scaler.update()\n\u001b[32m--> \u001b[39m\u001b[32m107\u001b[39m     \u001b[43mscheduler\u001b[49m\u001b[43m.\u001b[49m\u001b[43mstep\u001b[49m\u001b[43m(\u001b[49m\u001b[43m)\u001b[49m\n\u001b[32m    108\u001b[39m     train_losses.append(loss.item())\n\u001b[32m    110\u001b[39m \u001b[38;5;66;03m# Validate\u001b[39;00m\n",
      "\u001b[36mFile \u001b[39m\u001b[32md:\\Project\\.venv\\Lib\\site-packages\\torch\\optim\\lr_scheduler.py:196\u001b[39m, in \u001b[36mLRScheduler.step\u001b[39m\u001b[34m(self, epoch)\u001b[39m\n\u001b[32m    194\u001b[39m \u001b[38;5;28;01mif\u001b[39;00m epoch \u001b[38;5;129;01mis\u001b[39;00m \u001b[38;5;28;01mNone\u001b[39;00m:\n\u001b[32m    195\u001b[39m     \u001b[38;5;28mself\u001b[39m.last_epoch += \u001b[32m1\u001b[39m\n\u001b[32m--> \u001b[39m\u001b[32m196\u001b[39m     values = \u001b[38;5;28;43mself\u001b[39;49m\u001b[43m.\u001b[49m\u001b[43mget_lr\u001b[49m\u001b[43m(\u001b[49m\u001b[43m)\u001b[49m\n\u001b[32m    197\u001b[39m \u001b[38;5;28;01melse\u001b[39;00m:\n\u001b[32m    198\u001b[39m     warnings.warn(EPOCH_DEPRECATION_WARNING, \u001b[38;5;167;01mUserWarning\u001b[39;00m)\n",
      "\u001b[36mFile \u001b[39m\u001b[32md:\\Project\\.venv\\Lib\\site-packages\\torch\\optim\\lr_scheduler.py:2009\u001b[39m, in \u001b[36mOneCycleLR.get_lr\u001b[39m\u001b[34m(self)\u001b[39m\n\u001b[32m   2006\u001b[39m step_num = \u001b[38;5;28mself\u001b[39m.last_epoch\n\u001b[32m   2008\u001b[39m \u001b[38;5;28;01mif\u001b[39;00m step_num > \u001b[38;5;28mself\u001b[39m.total_steps:\n\u001b[32m-> \u001b[39m\u001b[32m2009\u001b[39m     \u001b[38;5;28;01mraise\u001b[39;00m \u001b[38;5;167;01mValueError\u001b[39;00m(\n\u001b[32m   2010\u001b[39m         \u001b[33mf\u001b[39m\u001b[33m\"\u001b[39m\u001b[33mTried to step \u001b[39m\u001b[38;5;132;01m{\u001b[39;00mstep_num\u001b[38;5;132;01m}\u001b[39;00m\u001b[33m times. The specified number of total steps is \u001b[39m\u001b[38;5;132;01m{\u001b[39;00m\u001b[38;5;28mself\u001b[39m.total_steps\u001b[38;5;132;01m}\u001b[39;00m\u001b[33m\"\u001b[39m  \u001b[38;5;66;03m# noqa: UP032\u001b[39;00m\n\u001b[32m   2011\u001b[39m     )\n\u001b[32m   2013\u001b[39m \u001b[38;5;28;01mfor\u001b[39;00m group \u001b[38;5;129;01min\u001b[39;00m \u001b[38;5;28mself\u001b[39m.optimizer.param_groups:\n\u001b[32m   2014\u001b[39m     start_step = \u001b[32m0.0\u001b[39m\n",
      "\u001b[31mValueError\u001b[39m: Tried to step 7501 times. The specified number of total steps is 7500"
     ]
    }
   ],
   "source": [
    "import torch\n",
    "import torch.nn as nn\n",
    "import numpy as np\n",
    "import time\n",
    "import pynvml\n",
    "from torch.utils.data import Dataset, DataLoader, Subset\n",
    "from sklearn.preprocessing import StandardScaler\n",
    "from sklearn.model_selection import KFold, train_test_split\n",
    "from sklearn.metrics import mean_squared_error, r2_score\n",
    "from tqdm.auto import tqdm\n",
    "from torch.cuda.amp import autocast, GradScaler\n",
    "\n",
    "# Initialize device and NVML for GPU util\n",
    "device = torch.device(\"cuda\" if torch.cuda.is_available() else \"cpu\")\n",
    "pynvml.nvmlInit()\n",
    "handle = pynvml.nvmlDeviceGetHandleByIndex(0)\n",
    "\n",
    "torch.manual_seed(42)\n",
    "# 1) Sequence dataset\n",
    "class SequenceDataset(Dataset):\n",
    "    def __init__(self, X, y, seq_len: int):\n",
    "        self.X = X  # GPU tensor\n",
    "        self.y = y  # GPU tensor\n",
    "        self.seq_len = seq_len\n",
    "    def __len__(self):\n",
    "        return self.X.shape[0] - self.seq_len\n",
    "    def __getitem__(self, idx):\n",
    "        return self.X[idx: idx + self.seq_len], self.y[idx + self.seq_len]\n",
    "\n",
    "# 2) Model and cuDNN tuning\n",
    "torch.backends.cudnn.benchmark = True\n",
    "class LSTMRegressor(nn.Module):\n",
    "    def __init__(self, input_dim, hidden_dim=128, num_layers=2, dropout=0.1):\n",
    "        super().__init__()\n",
    "        self.lstm = nn.LSTM(input_dim, hidden_dim, num_layers,\n",
    "                            batch_first=True, dropout=dropout if num_layers>1 else 0)\n",
    "        self.fc = nn.Sequential(\n",
    "            nn.Linear(hidden_dim, hidden_dim//2), nn.ReLU(),\n",
    "            nn.Dropout(dropout), nn.Linear(hidden_dim//2, 1)\n",
    "        )\n",
    "    def forward(self, x):\n",
    "        out, _ = self.lstm(x)\n",
    "        return self.fc(out[:, -1, :])\n",
    "\n",
    "# 3) Data preparation: move entire dataset to GPU\n",
    "# Replace X_scaled, y_scaled with your numpy arrays\n",
    "# SEQ_LEN defined earlier (e.g., 7)\n",
    "X_tensor = torch.from_numpy(X_scaled).float().to(device)\n",
    "y_tensor = torch.from_numpy(y_scaled).float().to(device)\n",
    "SEQ_LEN = 60\n",
    "dataset = SequenceDataset(X_tensor, y_tensor, seq_len=SEQ_LEN)\n",
    "\n",
    "# 4) Hyperparameters & DataLoader settings\n",
    "BATCH_SIZE = 512               # from sweep\n",
    "NUM_WORKERS = 0                # data already on GPU, no CPU workers\n",
    "PIN_MEMORY = False             # not needed when data on GPU\n",
    "PERSISTENT_WORKERS = False     # not needed\n",
    "PREFETCH_FACTOR = 2            # minimal, workers unused\n",
    "\n",
    "# 5) Batch-size utilization sweep (omitted for brevity)\n",
    "# ... reuse previous NVML-based loop if desired\n",
    "\n",
    "# 6) K-Fold training loop with GPU-resident data\n",
    "kf = KFold(n_splits=5, shuffle=True, random_state=42)\n",
    "rmse_list, r2_list = [], []\n",
    "for fold, (train_idx, test_idx) in enumerate(kf.split(dataset), 1):\n",
    "    train_idx, val_idx = train_test_split(train_idx, test_size=0.1, random_state=42)\n",
    "    def make_loader(idxs, shuffle: bool):\n",
    "        return DataLoader(\n",
    "            Subset(dataset, idxs),\n",
    "            batch_size=BATCH_SIZE,\n",
    "            shuffle=shuffle\n",
    "        )\n",
    "\n",
    "    train_loader = make_loader(train_idx, True)\n",
    "    val_loader   = make_loader(val_idx, False)\n",
    "    test_loader  = make_loader(test_idx, False)\n",
    "\n",
    "    model = LSTMRegressor(input_dim=X_tensor.shape[1]).to(device)\n",
    "    optimizer = torch.optim.AdamW(model.parameters(), lr=1e-4, weight_decay=1e-4)\n",
    "    # OneCycleLR: warm up to 1e-3 then decay\n",
    "    scheduler = torch.optim.lr_scheduler.OneCycleLR(\n",
    "        optimizer,\n",
    "        max_lr=1e-3,\n",
    "        steps_per_epoch=len(train_loader),\n",
    "        epochs=50\n",
    "    )\n",
    "    loss_fn = nn.MSELoss()\n",
    "    scaler = GradScaler()\n",
    "\n",
    "    best_val_loss = float('inf'); best_state = None\n",
    "    # Epoch loop\n",
    "    for epoch in tqdm(range(1, 1001), desc=f\"Fold {fold}\"):\n",
    "        # Train\n",
    "        model.train()\n",
    "        train_losses = []\n",
    "        for seq_x, y in train_loader:\n",
    "            optimizer.zero_grad()\n",
    "            with autocast():\n",
    "                pred = model(seq_x)\n",
    "                loss = loss_fn(pred, y.unsqueeze(1))\n",
    "            scaler.scale(loss).backward()\n",
    "            # gradient clipping\n",
    "            torch.nn.utils.clip_grad_norm_(model.parameters(), max_norm=1.0)\n",
    "            scaler.step(optimizer)\n",
    "            scaler.update()\n",
    "            scheduler.step()\n",
    "            train_losses.append(loss.item())\n",
    "\n",
    "        # Validate\n",
    "        model.eval()\n",
    "        val_losses = []\n",
    "        with torch.no_grad():\n",
    "            for seq_x, y in val_loader:\n",
    "                with autocast():\n",
    "                    val_losses.append(float(loss_fn(model(seq_x), y.unsqueeze(1))))\n",
    "        val_loss = np.mean(val_losses)\n",
    "        if val_loss < best_val_loss:\n",
    "            best_val_loss, best_state = val_loss, model.state_dict()\n",
    "        cur_lr = optimizer.param_groups[0]['lr']\n",
    "        tqdm.write(\n",
    "            f\"Fold {fold} Ep {epoch}: train={np.mean(train_losses):.4f}, val={val_loss:.4f}, lr={cur_lr:.2e}\"\n",
    "        )\n",
    "\n",
    "    # Test\n",
    "    model.load_state_dict(best_state)\n",
    "    preds, trues = [], []\n",
    "    with torch.no_grad():\n",
    "        for seq_x, y in test_loader:\n",
    "            with autocast(\"cuda\"):\n",
    "                preds.append(model(seq_x).cpu().numpy())\n",
    "            trues.append(y.unsqueeze(1).cpu().numpy())\n",
    "    preds = np.vstack(preds).flatten().astype(np.float32)\n",
    "    trues = np.vstack(trues).flatten().astype(np.float32)\n",
    "\n",
    "    # Inverse & metrics\n",
    "    y_pred = scaler_y.inverse_transform(preds[:,None]).ravel()\n",
    "    y_true = scaler_y.inverse_transform(trues[:,None]).ravel()\n",
    "    y_pred, y_true = np.exp(y_pred), np.exp(y_true)\n",
    "    rmse = np.sqrt(mean_squared_error(y_true, y_pred))\n",
    "    r2 = r2_score(y_true, y_pred)\n",
    "    tqdm.write(f\"Fold {fold} — RMSE: {rmse:.2f}, R2: {r2:.3f}\")\n",
    "    rmse_list.append(rmse); r2_list.append(r2)\n",
    "\n",
    "print(f\"Avg RMSE: {np.mean(rmse_list):.2f}, Avg R2: {np.mean(r2_list):.3f}\")\n"
   ]
  },
  {
   "cell_type": "code",
   "execution_count": 5,
   "id": "6f415602",
   "metadata": {},
   "outputs": [
    {
     "data": {
      "image/png": "[encoded data removed]",
      "text/plain": [
       "<Figure size 800x400 with 1 Axes>"
      ]
     },
     "metadata": {},
     "output_type": "display_data"
    }
   ],
   "source": [
    "import numpy as np\n",
    "import pandas as pd\n",
    "import matplotlib.pyplot as plt\n",
    "from statsmodels.tsa.stattools import acf\n",
    "\n",
    "# Suppose you have a pandas Series of your raw (not log’d) target:\n",
    "dates = pd.date_range(start=\"2023-01-01\", periods=len(y_true), freq=\"D\")\n",
    "ser = pd.Series(y_true, index=dates)\n",
    "\n",
    "# 1) Compute ACF up to, say, 30 lags\n",
    "nlags = 90\n",
    "acf_vals, confint = acf(ser, nlags=nlags, alpha=0.05)\n",
    "\n",
    "# 2) Plot it\n",
    "lags = np.arange(nlags+1)\n",
    "plt.figure(figsize=(8,4))\n",
    "plt.stem(lags, acf_vals)\n",
    "plt.fill_between(lags,\n",
    "                 confint[:,0] - acf_vals,\n",
    "                 confint[:,1] - acf_vals,\n",
    "                 color='gray', alpha=0.3)\n",
    "plt.xlabel(\"Lag\")\n",
    "plt.ylabel(\"Autocorrelation\")\n",
    "plt.title(\"ACF of revenue_per_vehicle\")\n",
    "plt.show()\n"
   ]
  },
  {
   "cell_type": "code",
   "execution_count": 30,
   "id": "4d96f331",
   "metadata": {},
   "outputs": [
    {
     "name": "stdout",
     "output_type": "stream",
     "text": [
      "[50]\ttrain's rmse: 20049.4\tval's rmse: 20673.6\n",
      "[100]\ttrain's rmse: 19146\tval's rmse: 20182.6\n",
      "[150]\ttrain's rmse: 18586.9\tval's rmse: 20025.1\n",
      "[200]\ttrain's rmse: 18205.6\tval's rmse: 19954.7\n",
      "[250]\ttrain's rmse: 17882.2\tval's rmse: 19905.9\n",
      "[300]\ttrain's rmse: 17596.1\tval's rmse: 19881.2\n",
      "[350]\ttrain's rmse: 17318.4\tval's rmse: 19857.6\n",
      "[400]\ttrain's rmse: 17063.6\tval's rmse: 19850.2\n",
      "[450]\ttrain's rmse: 16824.1\tval's rmse: 19847.9\n",
      "[500]\ttrain's rmse: 16583.2\tval's rmse: 19854.3\n",
      "[550]\ttrain's rmse: 16356.2\tval's rmse: 19857.8\n",
      "[600]\ttrain's rmse: 16134.3\tval's rmse: 19860.9\n",
      "[650]\ttrain's rmse: 15918.1\tval's rmse: 19858.1\n",
      "[700]\ttrain's rmse: 15726.8\tval's rmse: 19857.7\n",
      "[750]\ttrain's rmse: 15540.3\tval's rmse: 19864.6\n",
      "[800]\ttrain's rmse: 15348.4\tval's rmse: 19872\n",
      "[850]\ttrain's rmse: 15160.4\tval's rmse: 19874.4\n",
      "[900]\ttrain's rmse: 14979.8\tval's rmse: 19879.6\n",
      "[950]\ttrain's rmse: 14807\tval's rmse: 19881\n",
      "[1000]\ttrain's rmse: 14641.5\tval's rmse: 19883.2\n",
      "[1050]\ttrain's rmse: 14471.8\tval's rmse: 19891.4\n",
      "[1100]\ttrain's rmse: 14311.1\tval's rmse: 19892.8\n",
      "[1150]\ttrain's rmse: 14158.2\tval's rmse: 19904.7\n",
      "[1200]\ttrain's rmse: 13995.6\tval's rmse: 19912.9\n",
      "[1250]\ttrain's rmse: 13850.8\tval's rmse: 19916.1\n",
      "[1300]\ttrain's rmse: 13702.8\tval's rmse: 19922.4\n",
      "[1350]\ttrain's rmse: 13564.7\tval's rmse: 19924.6\n",
      "[1400]\ttrain's rmse: 13428.7\tval's rmse: 19930.3\n",
      "[1450]\ttrain's rmse: 13284.4\tval's rmse: 19934.9\n",
      "[1500]\ttrain's rmse: 13147.4\tval's rmse: 19937.1\n",
      "[1550]\ttrain's rmse: 13015.6\tval's rmse: 19944.8\n",
      "[1600]\ttrain's rmse: 12881.9\tval's rmse: 19952.1\n",
      "[1650]\ttrain's rmse: 12747.9\tval's rmse: 19956.8\n",
      "[1700]\ttrain's rmse: 12625.9\tval's rmse: 19967.2\n",
      "[1750]\ttrain's rmse: 12498.4\tval's rmse: 19969.8\n",
      "[1800]\ttrain's rmse: 12384.2\tval's rmse: 19974.3\n",
      "[1850]\ttrain's rmse: 12257.6\tval's rmse: 19972.9\n",
      "[1900]\ttrain's rmse: 12131.8\tval's rmse: 19980\n",
      "[1950]\ttrain's rmse: 12007.5\tval's rmse: 19985.8\n",
      "[2000]\ttrain's rmse: 11892.4\tval's rmse: 19993.9\n",
      "[2050]\ttrain's rmse: 11770.4\tval's rmse: 20003.8\n",
      "[2100]\ttrain's rmse: 11649.5\tval's rmse: 20008.1\n",
      "[2150]\ttrain's rmse: 11539.5\tval's rmse: 20009.8\n",
      "[2200]\ttrain's rmse: 11428\tval's rmse: 20020.5\n",
      "[2250]\ttrain's rmse: 11327.9\tval's rmse: 20023.3\n",
      "[2300]\ttrain's rmse: 11219.7\tval's rmse: 20026.2\n",
      "[2350]\ttrain's rmse: 11121.2\tval's rmse: 20032.6\n",
      "[2400]\ttrain's rmse: 11021.4\tval's rmse: 20035.8\n",
      "[2450]\ttrain's rmse: 10917.5\tval's rmse: 20036.3\n",
      "[2500]\ttrain's rmse: 10808.9\tval's rmse: 20041\n",
      "[2550]\ttrain's rmse: 10709.4\tval's rmse: 20050\n",
      "[2600]\ttrain's rmse: 10603.2\tval's rmse: 20051.7\n",
      "[2650]\ttrain's rmse: 10503\tval's rmse: 20055.8\n",
      "[2700]\ttrain's rmse: 10400.9\tval's rmse: 20060.2\n",
      "[2750]\ttrain's rmse: 10309.7\tval's rmse: 20065.2\n",
      "[2800]\ttrain's rmse: 10214.4\tval's rmse: 20068.6\n",
      "[2850]\ttrain's rmse: 10119.9\tval's rmse: 20069.2\n",
      "[2900]\ttrain's rmse: 10026.3\tval's rmse: 20077.7\n",
      "[2950]\ttrain's rmse: 9929.35\tval's rmse: 20081.9\n",
      "[3000]\ttrain's rmse: 9837.03\tval's rmse: 20087.7\n",
      "[3050]\ttrain's rmse: 9748.05\tval's rmse: 20098.3\n",
      "[3100]\ttrain's rmse: 9657.45\tval's rmse: 20101.8\n",
      "[3150]\ttrain's rmse: 9568.78\tval's rmse: 20108.4\n",
      "[3200]\ttrain's rmse: 9486.19\tval's rmse: 20114.2\n",
      "[3250]\ttrain's rmse: 9396.75\tval's rmse: 20118.4\n",
      "[3300]\ttrain's rmse: 9312.58\tval's rmse: 20123.4\n",
      "[3350]\ttrain's rmse: 9229.51\tval's rmse: 20128\n",
      "[3400]\ttrain's rmse: 9151.44\tval's rmse: 20133.9\n",
      "[3450]\ttrain's rmse: 9071.21\tval's rmse: 20137.6\n",
      "[3500]\ttrain's rmse: 8990.7\tval's rmse: 20141\n",
      "[3550]\ttrain's rmse: 8906.45\tval's rmse: 20147.4\n",
      "[3600]\ttrain's rmse: 8823.91\tval's rmse: 20149.8\n",
      "[3650]\ttrain's rmse: 8740.67\tval's rmse: 20155\n",
      "[3700]\ttrain's rmse: 8661.94\tval's rmse: 20158.8\n",
      "[3750]\ttrain's rmse: 8587.41\tval's rmse: 20164.4\n",
      "[3800]\ttrain's rmse: 8510.38\tval's rmse: 20169.5\n",
      "[3850]\ttrain's rmse: 8435\tval's rmse: 20174.4\n",
      "[3900]\ttrain's rmse: 8360.47\tval's rmse: 20178.3\n",
      "[3950]\ttrain's rmse: 8282.66\tval's rmse: 20181.4\n",
      "[4000]\ttrain's rmse: 8217.67\tval's rmse: 20185.4\n",
      "[4050]\ttrain's rmse: 8146.09\tval's rmse: 20189.7\n",
      "[4100]\ttrain's rmse: 8075.85\tval's rmse: 20194.5\n",
      "[4150]\ttrain's rmse: 8009.87\tval's rmse: 20199.4\n",
      "[4200]\ttrain's rmse: 7944.21\tval's rmse: 20202.2\n",
      "[4250]\ttrain's rmse: 7875.8\tval's rmse: 20204.6\n",
      "[4300]\ttrain's rmse: 7805.98\tval's rmse: 20208.6\n",
      "[4350]\ttrain's rmse: 7741.93\tval's rmse: 20210.5\n",
      "[4400]\ttrain's rmse: 7669.89\tval's rmse: 20213.6\n",
      "[4450]\ttrain's rmse: 7607.29\tval's rmse: 20215\n",
      "[4500]\ttrain's rmse: 7539.03\tval's rmse: 20219.3\n",
      "[4550]\ttrain's rmse: 7472.06\tval's rmse: 20222.8\n",
      "[4600]\ttrain's rmse: 7404.51\tval's rmse: 20228.2\n",
      "[4650]\ttrain's rmse: 7340.9\tval's rmse: 20230.6\n",
      "[4700]\ttrain's rmse: 7275.18\tval's rmse: 20235.6\n",
      "[4750]\ttrain's rmse: 7215.92\tval's rmse: 20239\n",
      "[4800]\ttrain's rmse: 7152.52\tval's rmse: 20240.1\n",
      "[4850]\ttrain's rmse: 7088.84\tval's rmse: 20241.7\n",
      "[4900]\ttrain's rmse: 7032.92\tval's rmse: 20242.9\n",
      "[4950]\ttrain's rmse: 6970.87\tval's rmse: 20246.4\n",
      "[5000]\ttrain's rmse: 6915.56\tval's rmse: 20252.1\n",
      "[5050]\ttrain's rmse: 6855.31\tval's rmse: 20254.1\n",
      "[5100]\ttrain's rmse: 6796.71\tval's rmse: 20256.8\n",
      "[5150]\ttrain's rmse: 6737.5\tval's rmse: 20258.4\n",
      "[5200]\ttrain's rmse: 6682.93\tval's rmse: 20259.6\n",
      "[5250]\ttrain's rmse: 6627.1\tval's rmse: 20263.3\n",
      "[5300]\ttrain's rmse: 6570.67\tval's rmse: 20267.9\n",
      "[5350]\ttrain's rmse: 6513.99\tval's rmse: 20272.3\n",
      "[5400]\ttrain's rmse: 6455.2\tval's rmse: 20276.3\n",
      "[5450]\ttrain's rmse: 6394.02\tval's rmse: 20279.5\n",
      "[5500]\ttrain's rmse: 6341.26\tval's rmse: 20280.9\n",
      "[5550]\ttrain's rmse: 6287.89\tval's rmse: 20284.1\n",
      "[5600]\ttrain's rmse: 6237.07\tval's rmse: 20287.6\n",
      "[5650]\ttrain's rmse: 6186.52\tval's rmse: 20290.4\n",
      "[5700]\ttrain's rmse: 6134.75\tval's rmse: 20290.4\n",
      "[5750]\ttrain's rmse: 6083.44\tval's rmse: 20295.4\n",
      "[5800]\ttrain's rmse: 6034.53\tval's rmse: 20299\n",
      "[5850]\ttrain's rmse: 5986.25\tval's rmse: 20301.2\n",
      "[5900]\ttrain's rmse: 5934.45\tval's rmse: 20302.6\n",
      "[5950]\ttrain's rmse: 5883.01\tval's rmse: 20303.7\n",
      "[6000]\ttrain's rmse: 5836.24\tval's rmse: 20305.6\n",
      "[6050]\ttrain's rmse: 5783.45\tval's rmse: 20310.6\n",
      "[6100]\ttrain's rmse: 5734.31\tval's rmse: 20314.1\n",
      "[6150]\ttrain's rmse: 5685.56\tval's rmse: 20318.7\n",
      "[6200]\ttrain's rmse: 5640.69\tval's rmse: 20319.9\n",
      "[6250]\ttrain's rmse: 5593.85\tval's rmse: 20321.7\n",
      "[6300]\ttrain's rmse: 5546.91\tval's rmse: 20322\n",
      "[6350]\ttrain's rmse: 5501.87\tval's rmse: 20324.2\n",
      "[6400]\ttrain's rmse: 5458.81\tval's rmse: 20327.4\n",
      "[6450]\ttrain's rmse: 5409.99\tval's rmse: 20329.8\n",
      "[6500]\ttrain's rmse: 5368.1\tval's rmse: 20333.5\n",
      "[6550]\ttrain's rmse: 5322.35\tval's rmse: 20337.5\n",
      "[6600]\ttrain's rmse: 5281.67\tval's rmse: 20337.2\n",
      "[6650]\ttrain's rmse: 5241.45\tval's rmse: 20340.3\n",
      "[6700]\ttrain's rmse: 5195.28\tval's rmse: 20342.5\n",
      "[6750]\ttrain's rmse: 5154.26\tval's rmse: 20344.7\n",
      "[6800]\ttrain's rmse: 5110.37\tval's rmse: 20347.2\n",
      "[6850]\ttrain's rmse: 5067.82\tval's rmse: 20349.9\n",
      "[6900]\ttrain's rmse: 5026.17\tval's rmse: 20351.7\n",
      "[6950]\ttrain's rmse: 4985.64\tval's rmse: 20352.4\n",
      "[7000]\ttrain's rmse: 4941.75\tval's rmse: 20354.2\n",
      "[7050]\ttrain's rmse: 4900.99\tval's rmse: 20356.3\n",
      "[7100]\ttrain's rmse: 4861.96\tval's rmse: 20357.5\n",
      "[7150]\ttrain's rmse: 4821.9\tval's rmse: 20359.6\n",
      "[7200]\ttrain's rmse: 4782.57\tval's rmse: 20361.4\n",
      "[7250]\ttrain's rmse: 4743.74\tval's rmse: 20364.5\n",
      "[7300]\ttrain's rmse: 4705.9\tval's rmse: 20367.6\n",
      "[7350]\ttrain's rmse: 4667.23\tval's rmse: 20370\n",
      "[7400]\ttrain's rmse: 4629.57\tval's rmse: 20373.5\n",
      "[7450]\ttrain's rmse: 4590.62\tval's rmse: 20374.3\n",
      "[7500]\ttrain's rmse: 4553.07\tval's rmse: 20377.4\n",
      "[7550]\ttrain's rmse: 4517.57\tval's rmse: 20377.7\n",
      "[7600]\ttrain's rmse: 4480.19\tval's rmse: 20378.8\n",
      "[7650]\ttrain's rmse: 4442.36\tval's rmse: 20380.8\n",
      "[7700]\ttrain's rmse: 4404.41\tval's rmse: 20382.4\n",
      "[7750]\ttrain's rmse: 4371.81\tval's rmse: 20383.9\n",
      "[7800]\ttrain's rmse: 4336.72\tval's rmse: 20385.7\n",
      "[7850]\ttrain's rmse: 4300.41\tval's rmse: 20387.3\n",
      "[7900]\ttrain's rmse: 4264\tval's rmse: 20389.5\n",
      "[7950]\ttrain's rmse: 4227.71\tval's rmse: 20392.2\n",
      "[8000]\ttrain's rmse: 4196.05\tval's rmse: 20393.6\n",
      "[8050]\ttrain's rmse: 4161\tval's rmse: 20394.9\n",
      "[8100]\ttrain's rmse: 4127.69\tval's rmse: 20395.9\n",
      "[8150]\ttrain's rmse: 4090.95\tval's rmse: 20397.3\n",
      "[8200]\ttrain's rmse: 4058.13\tval's rmse: 20399.1\n",
      "[8250]\ttrain's rmse: 4023.18\tval's rmse: 20401.7\n",
      "[8300]\ttrain's rmse: 3991.68\tval's rmse: 20401.5\n",
      "[8350]\ttrain's rmse: 3958.51\tval's rmse: 20403.1\n",
      "[8400]\ttrain's rmse: 3925.8\tval's rmse: 20402.9\n",
      "[8450]\ttrain's rmse: 3895.52\tval's rmse: 20403.5\n",
      "[8500]\ttrain's rmse: 3863.34\tval's rmse: 20406.6\n",
      "[8550]\ttrain's rmse: 3830.84\tval's rmse: 20408.8\n",
      "[8600]\ttrain's rmse: 3802.92\tval's rmse: 20409.1\n",
      "[8650]\ttrain's rmse: 3773.83\tval's rmse: 20411.2\n",
      "[8700]\ttrain's rmse: 3744.88\tval's rmse: 20412\n",
      "[8750]\ttrain's rmse: 3715.31\tval's rmse: 20412.6\n",
      "[8800]\ttrain's rmse: 3684.82\tval's rmse: 20414.8\n",
      "[8850]\ttrain's rmse: 3655.31\tval's rmse: 20416.3\n",
      "[8900]\ttrain's rmse: 3627.1\tval's rmse: 20418.6\n",
      "[8950]\ttrain's rmse: 3598.29\tval's rmse: 20419\n",
      "[9000]\ttrain's rmse: 3569.58\tval's rmse: 20420.3\n",
      "[9050]\ttrain's rmse: 3540.3\tval's rmse: 20422.4\n",
      "[9100]\ttrain's rmse: 3511.02\tval's rmse: 20422.5\n",
      "[9150]\ttrain's rmse: 3483.87\tval's rmse: 20423.7\n",
      "[9200]\ttrain's rmse: 3458.04\tval's rmse: 20425.4\n",
      "[9250]\ttrain's rmse: 3429.99\tval's rmse: 20426.1\n",
      "[9300]\ttrain's rmse: 3403.19\tval's rmse: 20428.5\n",
      "[9350]\ttrain's rmse: 3375.29\tval's rmse: 20431\n",
      "[9400]\ttrain's rmse: 3349.23\tval's rmse: 20433.1\n",
      "[9450]\ttrain's rmse: 3322.69\tval's rmse: 20434.9\n",
      "[9500]\ttrain's rmse: 3295.12\tval's rmse: 20436.1\n",
      "[9550]\ttrain's rmse: 3269.76\tval's rmse: 20436.7\n",
      "[9600]\ttrain's rmse: 3242.76\tval's rmse: 20438\n",
      "[9650]\ttrain's rmse: 3216.82\tval's rmse: 20439\n",
      "[9700]\ttrain's rmse: 3191.03\tval's rmse: 20439.8\n",
      "[9750]\ttrain's rmse: 3165.07\tval's rmse: 20441.6\n",
      "[9800]\ttrain's rmse: 3140.14\tval's rmse: 20442.7\n",
      "[9850]\ttrain's rmse: 3115.72\tval's rmse: 20443.9\n",
      "[9900]\ttrain's rmse: 3092.71\tval's rmse: 20445.7\n",
      "[9950]\ttrain's rmse: 3067.77\tval's rmse: 20447.7\n",
      "[10000]\ttrain's rmse: 3043.57\tval's rmse: 20449.4\n",
      "LightGBM RMSE: 20449.427\n"
     ]
    }
   ],
   "source": [
    "import lightgbm as lgb\n",
    "from sklearn.model_selection import train_test_split\n",
    "from sklearn.metrics import mean_squared_error\n",
    "\n",
    "weekly = pd.read_feather('data/output/df_features_seoul.feather')\n",
    "weekly_df  = weekly.copy()\n",
    "\n",
    "# 1) Prepare X, y from your weekly DataFrame (no log-transform if you want direct revenue; or predict log and exp‐back)\n",
    "features = [\n",
    "    'vehicle_count',\n",
    "    'T', 'RH', 'P', 'W', 'S', 'offday_run', 't',\n",
    "    'weather_score','coupon_count',\n",
    "    'sin_doy', 'cos_doy',\n",
    "    'rain_flag', 'windy_flag', 'rain_weekend', 'hot_weekday',\n",
    "    'sin_month', 'cos_month', 'days_to_hol','is_holiday',\n",
    "    'rev_lag1', 'rev_lag7', 'rev_ma7', 'rev_std7',\n",
    "    # # 인구 통계 변수\n",
    "    'femlNmprCnt','maleNmprCnt', 'pct_child', 'pct_teen', 'pct_adult', 'pct_senior',\n",
    "    #'totNmprCnt','femlNmprCnt','maleNmprCnt',  \n",
    "    # 조정 지가\n",
    "    'adj_land_price'\n",
    "]\n",
    "\n",
    "# features = [\n",
    "#     'vehicle_count','week_of_year',\n",
    "\n",
    "#     'T', 'RH', 'P', 'W', 'S', 'weather_score',\n",
    "#     'is_holiday', 'days_to_hol',\n",
    "#     'rain_flag', 'windy_flag', 'coupon_count',\n",
    "#     # # 인구 통계 변수\n",
    "#     'total_female','total_male', 'pct_child', 'pct_teen', 'pct_adult', 'pct_senior',\n",
    "#     #'totNmprCnt','femlNmprCnt','maleNmprCnt',\n",
    "#     # 조정 지가\n",
    "#     'adj_land_price',\n",
    "#     # cyclical\n",
    "#     'sin_woy','cos_woy','sin_month','cos_month'\n",
    "# ]\n",
    "\n",
    "X = weekly_df[features]\n",
    "y = weekly_df['revenue_per_vehicle']\n",
    "\n",
    "# 2) Train/test split\n",
    "X_train, X_val, y_train, y_val = train_test_split(\n",
    "    X, y, test_size=0.2, random_state=42\n",
    ")\n",
    "\n",
    "# 3) Create LightGBM datasets\n",
    "dtrain = lgb.Dataset(X_train, label=y_train)\n",
    "dval   = lgb.Dataset(X_val,   label=y_val, reference=dtrain)\n",
    "\n",
    "# 4) Set up parameters\n",
    "params = {\n",
    "    'objective':        'regression',\n",
    "    'metric':           'rmse',\n",
    "    'learning_rate':    0.05,\n",
    "    'num_leaves':       64,\n",
    "    'min_data_in_leaf': 20,\n",
    "    'feature_fraction': 0.8,\n",
    "    'bagging_fraction': 0.8,\n",
    "    'bagging_freq':     5,\n",
    "    'seed':             42,\n",
    "    'verbosity':        -1,\n",
    "}\n",
    "\n",
    "bst = lgb.train(\n",
    "    params,\n",
    "    dtrain,\n",
    "    num_boost_round=10000,\n",
    "    valid_sets=[dtrain, dval],\n",
    "    valid_names=['train','val'],\n",
    "    callbacks=[\n",
    "        #lgb.early_stopping(stopping_rounds=100),\n",
    "        lgb.log_evaluation(period=50)\n",
    "    ]\n",
    ")\n",
    "\n",
    "# 6) Predict & evaluate\n",
    "y_pred = bst.predict(X_val, num_iteration=bst.best_iteration)\n",
    "# compute mean squared error (default returns MSE)\n",
    "mse  = mean_squared_error(y_val, y_pred)\n",
    "\n",
    "# then take its square root for RMSE\n",
    "rmse = np.sqrt(mse)\n",
    "\n",
    "print(f\"LightGBM RMSE: {rmse:.3f}\")"
   ]
  },
  {
   "cell_type": "code",
   "execution_count": 31,
   "id": "02594884",
   "metadata": {},
   "outputs": [
    {
     "data": {
      "image/png": "[encoded data removed]",
      "text/plain": [
       "<Figure size 800x600 with 1 Axes>"
      ]
     },
     "metadata": {},
     "output_type": "display_data"
    },
    {
     "data": {
      "image/png": "[encoded data removed]",
      "text/plain": [
       "<Figure size 800x600 with 1 Axes>"
      ]
     },
     "metadata": {},
     "output_type": "display_data"
    }
   ],
   "source": [
    "import matplotlib.pyplot as plt\n",
    "import numpy as np\n",
    "\n",
    "# ----- Replace these two lines with however you obtain your arrays -----\n",
    "# For example, from your model run:\n",
    "#    y_val  = y_true_log_clipped   # or the de-logged values\n",
    "#    y_pred = y_pred_log_clipped\n",
    "# Make sure they’re both 1-D numpy arrays of the same length\n",
    "# ------------------------------------------------------------------------\n",
    "# y_val  = np.exp(y_val)  \n",
    "# y_pred = np.exp(y_pred)\n",
    "\n",
    "# Scatter: Predicted vs. Actual\n",
    "plt.figure(figsize=(8, 6))\n",
    "plt.scatter(y_val, y_pred, alpha=0.6, edgecolor='k')\n",
    "mn = min(y_val.min(), y_pred.min())\n",
    "mx = max(y_val.max(), y_pred.max())\n",
    "plt.plot([mn, mx], [mn, mx], 'r--', lw=1)\n",
    "plt.xlabel('Actual Revenue per Vehicle')\n",
    "plt.ylabel('Predicted Revenue per Vehicle')\n",
    "plt.title('Predicted vs. Actual')\n",
    "plt.tight_layout()\n",
    "plt.show()\n",
    "\n",
    "# Residuals histogram\n",
    "residuals = y_val - y_pred\n",
    "plt.figure(figsize=(8, 6))\n",
    "plt.hist(residuals, bins=50, alpha=0.7, edgecolor='k')\n",
    "plt.axvline(0, color='r', linestyle='--')\n",
    "plt.xlabel('Residual (Actual − Predicted)')\n",
    "plt.ylabel('Count')\n",
    "plt.title('Residuals Distribution')\n",
    "plt.tight_layout()\n",
    "plt.show()\n"
   ]
  },
  {
   "cell_type": "code",
   "execution_count": 24,
   "id": "8aaa7769",
   "metadata": {},
   "outputs": [
    {
     "data": {
      "image/png": "[encoded data removed]",
      "text/plain": [
       "<Figure size 1000x1200 with 1 Axes>"
      ]
     },
     "metadata": {},
     "output_type": "display_data"
    }
   ],
   "source": [
    "import matplotlib.pyplot as plt\n",
    "import numpy as np\n",
    "\n",
    "# 1) extract raw importances and feature names\n",
    "#    use 'gain' to see which splits gave the most reduction in loss\n",
    "importances   = bst.feature_importance(importance_type='gain')\n",
    "feature_names = np.array(features)\n",
    "\n",
    "# 2) sort descending\n",
    "idx = np.argsort(importances)[::-1]\n",
    "sorted_feats = feature_names[idx]\n",
    "sorted_imp   = importances[idx]\n",
    "\n",
    "# 3) plot\n",
    "plt.figure(figsize=(10, 12))\n",
    "plt.barh(sorted_feats, sorted_imp, edgecolor='k')\n",
    "plt.gca().invert_yaxis()            # highest importance at the top\n",
    "plt.xlabel('Feature importance (gain)')\n",
    "plt.title('LightGBM Feature Importances')\n",
    "plt.tight_layout()\n",
    "plt.show()\n"
   ]
  },
  {
   "cell_type": "code",
   "execution_count": null,
   "id": "253ab68c",
   "metadata": {},
   "outputs": [],
   "source": []
  }
 ],
 "metadata": {
  "kernelspec": {
   "display_name": ".venv",
   "language": "python",
   "name": "python3"
  },
  "language_info": {
   "codemirror_mode": {
    "name": "ipython",
    "version": 3
   },
   "file_extension": ".py",
   "mimetype": "text/x-python",
   "name": "python",
   "nbconvert_exporter": "python",
   "pygments_lexer": "ipython3",
   "version": "3.13.3"
  }
 },
 "nbformat": 4,
 "nbformat_minor": 5
}
