{
 "cells": [
  {
   "cell_type": "code",
   "execution_count": null,
   "id": "98976ce6",
   "metadata": {},
   "outputs": [],
   "source": [
    "import pandas as pd\n",
    "from statsforecast.core import StatsForecast\n",
    "from statsforecast.models import AutoARIMA, Naive\n",
    "from hierarchicalforecast.core import HierarchicalReconciliation\n",
    "from hierarchicalforecast.methods import BottomUp, TopDown, MiddleOut\n",
    "from pathlib import Path\n",
    "\n",
    "# ----------------------------------------\n",
    "# 1) 데이터 로드 및 기본 전처리\n",
    "# ----------------------------------------\n",
    "# Feather 파일에서 불러오기\n",
    "feat_path = Path(\"data/feature_store/daily_features_per.feather\")\n",
    "df = pd.read_feather(feat_path)\n",
    "\n",
    "\n",
    "# 사용 가능한 컬럼 목록 (참고용)\n",
    "static_cats = [\"spot_id\", \"vehicle_type\", \"region_code\"]\n",
    "time_known_cats = [\"dow\",\"week\",\"month\",\"quarter\",\"is_weekend\",\"is_holiday\"]\n",
    "time_known_reals = [\"offday_run\",\"rain_mm_lag1\",\"RH\",\"W\",\n",
    "                    \"inventory_est\",\"has_inventory\",\"avg_vehicle_age_inv\",\"avg_standard_rate_inv\"]\n",
    "time_unknown_reals = [\"lag_1\",\"lag_7\",\"lag_28\",\n",
    "                      \"roll_mean_7\",\"roll_std_7\",\"utilization_7\",\n",
    "                      \"vehicle_count\",\"coupon_count\",\"coupon_flag_prev1\",\n",
    "                      \"coupon_count_lag7\",\"coupon_per_vehicle\",\n",
    "                      \"region_total_rev\",\"region_vehicle_count\",\"region_rev_per_vehicle\",\n",
    "                      \"region_vehicle_mean_rev\"]\n",
    "target_col = \"rev_per_vehicle\""
   ]
  },
  {
   "cell_type": "code",
   "execution_count": null,
   "id": "3ffdf72a",
   "metadata": {},
   "outputs": [],
   "source": [
    "# 1.1 날짜 컬럼(ds)와 타깃(y)으로 이름 변경\n",
    "df = df.rename(columns={'date':'ds', target_col:'y'})\n",
    "\n",
    "# 1.2 unique_id 생성: region_code/spot_id/vehicle_type 구조\n",
    "df['unique_id'] = (\n",
    "    df['region_code'].astype(str) + '/'\n",
    "  + df['spot_id'].astype(str)    + '/'\n",
    "  + df['vehicle_type'].astype(str)\n",
    ")\n",
    "\n",
    "# 1.3 모델에 사용할 최소 컬럼만 남기기\n",
    "df_model = df[['unique_id', 'ds', 'y']].copy()"
   ]
  }
 ],
 "metadata": {
  "language_info": {
   "name": "python"
  }
 },
 "nbformat": 4,
 "nbformat_minor": 5
}
